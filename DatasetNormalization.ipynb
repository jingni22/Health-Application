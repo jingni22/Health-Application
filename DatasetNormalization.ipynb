{
 "cells": [
  {
   "cell_type": "code",
   "execution_count": null,
   "id": "a4748f77",
   "metadata": {},
   "outputs": [],
   "source": [
    "conda create -n snowflake python==3.10\n",
    "conda activate snowflake"
   ]
  },
  {
   "cell_type": "code",
   "execution_count": 149,
   "id": "2c713365",
   "metadata": {},
   "outputs": [
    {
     "name": "stdout",
     "output_type": "stream",
     "text": [
      "Requirement already satisfied: numexpr in c:\\users\\jing\\.conda\\envs\\snowflake\\lib\\site-packages (2.10.2)\n",
      "Requirement already satisfied: numpy>=1.23.0 in c:\\users\\jing\\.conda\\envs\\snowflake\\lib\\site-packages (from numexpr) (1.26.4)\n",
      "Requirement already satisfied: bottleneck in c:\\users\\jing\\.conda\\envs\\snowflake\\lib\\site-packages (1.4.2)\n",
      "Requirement already satisfied: numpy in c:\\users\\jing\\.conda\\envs\\snowflake\\lib\\site-packages (from bottleneck) (1.26.4)\n",
      "Requirement already satisfied: scikit-learn in c:\\users\\jing\\.conda\\envs\\snowflake\\lib\\site-packages (1.6.0)\n",
      "Requirement already satisfied: numpy>=1.19.5 in c:\\users\\jing\\.conda\\envs\\snowflake\\lib\\site-packages (from scikit-learn) (1.26.4)\n",
      "Requirement already satisfied: scipy>=1.6.0 in c:\\users\\jing\\.conda\\envs\\snowflake\\lib\\site-packages (from scikit-learn) (1.14.1)\n",
      "Requirement already satisfied: joblib>=1.2.0 in c:\\users\\jing\\.conda\\envs\\snowflake\\lib\\site-packages (from scikit-learn) (1.4.2)\n",
      "Requirement already satisfied: threadpoolctl>=3.1.0 in c:\\users\\jing\\.conda\\envs\\snowflake\\lib\\site-packages (from scikit-learn) (3.5.0)\n"
     ]
    }
   ],
   "source": [
    "!pip install --upgrade numexpr\n",
    "!pip install --upgrade bottleneck\n",
    "!pip install --upgrade scikit-learn"
   ]
  },
  {
   "cell_type": "code",
   "execution_count": 140,
   "id": "4bc84cab",
   "metadata": {},
   "outputs": [
    {
     "name": "stdout",
     "output_type": "stream",
     "text": [
      "[('health_application_datasets/LGHC.csv', 8574, 'aff6b621576d71614e38fc4bc540c14a', 'Fri, 20 Dec 2024 23:33:39 GMT'), ('health_application_datasets/US_CDI.csv', 88872126, None, 'Fri, 20 Dec 2024 08:30:15 GMT')]\n"
     ]
    },
    {
     "data": {
      "text/plain": [
       "True"
      ]
     },
     "execution_count": 140,
     "metadata": {},
     "output_type": "execute_result"
    }
   ],
   "source": [
    "import modin.pandas as pd\n",
    "import os\n",
    "import snowflake.connector as sc\n",
    "from snowflake.snowpark.session import Session\n",
    "\n",
    "\n",
    "\n",
    "private_key_file = '...'\n",
    "private_key_file_pwd = '...'\n",
    "\n",
    "conn_params = {\n",
    "    'account': '...',\n",
    "    'user': '...',\n",
    "    'role': 'ACCOUNTADMIN',\n",
    "    'private_key_file': private_key_file,\n",
    "    'private_key_file_pwd': private_key_file_pwd,\n",
    "    'database': 'HEALTH_APPLICATION',\n",
    "    'schema': 'PUBLIC'\n",
    "}\n",
    "\n",
    "file_path = '...'\n",
    "\n",
    "ctx = sc.connect(**conn_params)\n",
    "\n",
    "cursor = ctx.cursor()\n",
    "list_files_query = f\"LIST @HEALTH_APPLICATION_DATASETS;\"\n",
    "cursor.execute(list_files_query)\n",
    "files = cursor.fetchall()\n",
    "print(files)\n",
    "for i in files:\n",
    "    file = i[0]\n",
    "    get_query = f'GET @{file} file://{file_path}'\n",
    "    cursor.execute(get_query)\n",
    "cursor.close()"
   ]
  },
  {
   "cell_type": "code",
   "execution_count": 141,
   "id": "6ef35a14",
   "metadata": {
    "scrolled": false
   },
   "outputs": [],
   "source": [
    "import numpy as np\n",
    "import os\n",
    "\n",
    "os.chdir(file_path)\n",
    "\n",
    "file1 = files[0][0]\n",
    "file1 = os.path.split(file)[1]\n",
    "\n",
    "file2 = files[1][0]\n",
    "file2 = os.path.split(file)[1]"
   ]
  },
  {
   "cell_type": "code",
   "execution_count": 142,
   "id": "192fc505",
   "metadata": {},
   "outputs": [
    {
     "data": {
      "text/html": [
       "<div>\n",
       "<style scoped>\n",
       "    .dataframe tbody tr th:only-of-type {\n",
       "        vertical-align: middle;\n",
       "    }\n",
       "\n",
       "    .dataframe tbody tr th {\n",
       "        vertical-align: top;\n",
       "    }\n",
       "\n",
       "    .dataframe thead th {\n",
       "        text-align: right;\n",
       "    }\n",
       "</style>\n",
       "<table border=\"1\" class=\"dataframe\">\n",
       "  <thead>\n",
       "    <tr style=\"text-align: right;\">\n",
       "      <th></th>\n",
       "      <th>LocationDesc</th>\n",
       "      <th>StratificationID1</th>\n",
       "      <th>StratificationCategoryID1</th>\n",
       "      <th>DataValue</th>\n",
       "    </tr>\n",
       "  </thead>\n",
       "  <tbody>\n",
       "    <tr>\n",
       "      <th>3</th>\n",
       "      <td>Maine</td>\n",
       "      <td>SEXM</td>\n",
       "      <td>SEX</td>\n",
       "      <td>11.4</td>\n",
       "    </tr>\n",
       "    <tr>\n",
       "      <th>9</th>\n",
       "      <td>Alabama</td>\n",
       "      <td>AGE1844</td>\n",
       "      <td>AGE</td>\n",
       "      <td>5.0</td>\n",
       "    </tr>\n",
       "    <tr>\n",
       "      <th>21</th>\n",
       "      <td>Vermont</td>\n",
       "      <td>SEXM</td>\n",
       "      <td>SEX</td>\n",
       "      <td>9.3</td>\n",
       "    </tr>\n",
       "    <tr>\n",
       "      <th>22</th>\n",
       "      <td>Virgin Islands</td>\n",
       "      <td>SEXM</td>\n",
       "      <td>SEX</td>\n",
       "      <td>12.0</td>\n",
       "    </tr>\n",
       "    <tr>\n",
       "      <th>29</th>\n",
       "      <td>Massachusetts</td>\n",
       "      <td>SEXM</td>\n",
       "      <td>SEX</td>\n",
       "      <td>9.2</td>\n",
       "    </tr>\n",
       "    <tr>\n",
       "      <th>...</th>\n",
       "      <td>...</td>\n",
       "      <td>...</td>\n",
       "      <td>...</td>\n",
       "      <td>...</td>\n",
       "    </tr>\n",
       "    <tr>\n",
       "      <th>311660</th>\n",
       "      <td>Utah</td>\n",
       "      <td>HIS</td>\n",
       "      <td>RACE</td>\n",
       "      <td>11.0</td>\n",
       "    </tr>\n",
       "    <tr>\n",
       "      <th>311670</th>\n",
       "      <td>Virginia</td>\n",
       "      <td>OVR</td>\n",
       "      <td>OVERALL</td>\n",
       "      <td>12.8</td>\n",
       "    </tr>\n",
       "    <tr>\n",
       "      <th>311678</th>\n",
       "      <td>Washington</td>\n",
       "      <td>SEXF</td>\n",
       "      <td>SEX</td>\n",
       "      <td>9.2</td>\n",
       "    </tr>\n",
       "    <tr>\n",
       "      <th>311705</th>\n",
       "      <td>Virgin Islands</td>\n",
       "      <td>HIS</td>\n",
       "      <td>RACE</td>\n",
       "      <td>9.6</td>\n",
       "    </tr>\n",
       "    <tr>\n",
       "      <th>311709</th>\n",
       "      <td>Washington</td>\n",
       "      <td>OVR</td>\n",
       "      <td>OVERALL</td>\n",
       "      <td>8.8</td>\n",
       "    </tr>\n",
       "  </tbody>\n",
       "</table>\n",
       "<p>17098 rows x 4 columns</p>\n",
       "</div>"
      ],
      "text/plain": [
       "          LocationDesc StratificationID1 StratificationCategoryID1  DataValue\n",
       "3                Maine              SEXM                       SEX       11.4\n",
       "9              Alabama           AGE1844                       AGE        5.0\n",
       "21             Vermont              SEXM                       SEX        9.3\n",
       "22      Virgin Islands              SEXM                       SEX       12.0\n",
       "29       Massachusetts              SEXM                       SEX        9.2\n",
       "...                ...               ...                       ...        ...\n",
       "311660            Utah               HIS                      RACE       11.0\n",
       "311670        Virginia               OVR                   OVERALL       12.8\n",
       "311678      Washington              SEXF                       SEX        9.2\n",
       "311705  Virgin Islands               HIS                      RACE        9.6\n",
       "311709      Washington               OVR                   OVERALL        8.8\n",
       "\n",
       "[17098 rows x 4 columns]"
      ]
     },
     "execution_count": 142,
     "metadata": {},
     "output_type": "execute_result"
    }
   ],
   "source": [
    "import modin.pandas as pd\n",
    "df1 = pd.read_csv(f'{file1}')\n",
    "diabetes_df1 = df1[df1['Question'].str.contains('diabetes', case=False, na=False)]\n",
    "df2 = pd.read_csv(f'{file2}')\n",
    "diabetes_df2 = df2[df2['Question'].str.contains('diabetes', case=False, na=False)]\n",
    "diabetes_df = pd.concat([diabetes_df1, diabetes_df2])\n",
    "features = features = ['LocationDesc', 'StratificationID1','StratificationCategoryID1', 'DataValue']\n",
    "diabetes_df = diabetes_df[features].dropna()\n",
    "diabetes_df"
   ]
  },
  {
   "cell_type": "code",
   "execution_count": 143,
   "id": "6afd96d3",
   "metadata": {},
   "outputs": [
    {
     "name": "stdout",
     "output_type": "stream",
     "text": [
      "Root Mean Squared Error (RMSE): 10251.93\n",
      "Mean Absolute Error (MAE): 1705.04\n",
      "R-squared (R²): 0.20\n"
     ]
    }
   ],
   "source": [
    "from math import sqrt\n",
    "from sklearn.model_selection import train_test_split\n",
    "from sklearn.preprocessing import LabelEncoder, StandardScaler\n",
    "from sklearn.ensemble import RandomForestRegressor\n",
    "from sklearn.metrics import mean_squared_error, r2_score\n",
    "from sklearn.metrics import mean_absolute_error\n",
    "import joblib\n",
    "\n",
    "categorical_cols = ['LocationDesc', 'StratificationID1', 'StratificationCategoryID1']\n",
    "label_encoders = {}\n",
    "for col in categorical_cols:\n",
    "    le = LabelEncoder()\n",
    "    diabetes_df[col] = le.fit_transform(diabetes_df[col])\n",
    "    label_encoders[col] = le\n",
    "    \n",
    "X = diabetes_df.drop(columns=['DataValue']) \n",
    "y = diabetes_df['DataValue']\n",
    "\n",
    "X_train, X_test, y_train, y_test = train_test_split(X, y, test_size=0.25, random_state=42)\n",
    "\n",
    "scaler = StandardScaler()\n",
    "X_train = scaler.fit_transform(X_train)\n",
    "X_test = scaler.transform(X_test)\n",
    "\n",
    "rf_model = RandomForestRegressor(n_estimators=100, random_state=42)\n",
    "rf_model.fit(X_train, y_train)\n",
    "\n",
    "joblib.dump(rf_model, 'chronic_illness_diabetes_predictor.pkl')\n",
    "joblib.dump(scaler, \"scaler.pkl\")\n",
    "joblib.dump(label_encoders, \"label_encoders.pkl\")\n",
    "\n",
    "y_pred = rf_model.predict(X_test)\n",
    "\n",
    "rmse = sqrt(mean_squared_error(y_test, y_pred))\n",
    "print(f\"Root Mean Squared Error (RMSE): {rmse:.2f}\")\n",
    "mae = mean_absolute_error(y_test, y_pred)\n",
    "print(f\"Mean Absolute Error (MAE): {mae:.2f}\")\n",
    "r2 = r2_score(y_test, y_pred)\n",
    "print(f'R-squared (R²): {r2:.2f}')\n"
   ]
  },
  {
   "cell_type": "code",
   "execution_count": 144,
   "id": "3232ece5",
   "metadata": {},
   "outputs": [
    {
     "name": "stdout",
     "output_type": "stream",
     "text": [
      "Predicted likelihood of developing diabetes: 846.74%\n"
     ]
    }
   ],
   "source": [
    "new_user_data = {\n",
    "    'LocationDesc': 'Georgia', \n",
    "    'StratificationID1': 'SEXM', \n",
    "    'StratificationCategoryID1': 'SEX', \n",
    "}\n",
    "\n",
    "new_user_df = pd.DataFrame([new_user_data])\n",
    "for col in categorical_cols:\n",
    "    new_user_df[col] = label_encoders[col].transform(new_user_df[col])\n",
    "new_user_df = scaler.transform(new_user_df) \n",
    "diabetes_risk = rf_model.predict(new_user_df)  \n",
    "print(f\"Predicted likelihood of developing diabetes: {diabetes_risk[0]:.2f}%\")"
   ]
  }
 ],
 "metadata": {
  "kernelspec": {
   "display_name": "Python 3 (ipykernel)",
   "language": "python",
   "name": "python3"
  },
  "language_info": {
   "codemirror_mode": {
    "name": "ipython",
    "version": 3
   },
   "file_extension": ".py",
   "mimetype": "text/x-python",
   "name": "python",
   "nbconvert_exporter": "python",
   "pygments_lexer": "ipython3",
   "version": "3.9.13"
  }
 },
 "nbformat": 4,
 "nbformat_minor": 5
}
